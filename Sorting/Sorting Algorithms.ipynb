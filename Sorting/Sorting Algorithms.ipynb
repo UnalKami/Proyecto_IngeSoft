{
  "cells": [
    {
      "cell_type": "markdown",
      "metadata": {
        "id": "jXo_VUmAELXY"
      },
      "source": [
        "# Sorting Algorithms"
      ]
    },
    {
      "cell_type": "markdown",
      "metadata": {
        "id": "1nKrOnmHELXa"
      },
      "source": [
        "QuickSort Algorithm $\\rightarrow \\,\\, O(n^2)\\,\\,$(Worst Case)"
      ]
    },
    {
      "cell_type": "code",
      "execution_count": null,
      "metadata": {
        "id": "dvPRvJ2kELXb",
        "outputId": "29f81aec-294e-4804-d6b7-227938f99a18"
      },
      "outputs": [
        {
          "data": {
            "text/plain": [
              "[0, 1, 1, 1, 2, 2, 3, 4, 4, 8, 9, 11, 12]"
            ]
          },
          "execution_count": 2,
          "metadata": {},
          "output_type": "execute_result"
        }
      ],
      "source": [
        "#Holi esto lo hago para la tarea de Ingesoft \n",
        "\n",
        "def quicksort(a):\n",
        "    if len(a)<=1: return a\n",
        "    left,right = [],[]\n",
        "    p = a[0]\n",
        "    for i in range(1,len(a)):\n",
        "        if a[i]<p: left.append(a[i])\n",
        "        else: right.append(a[i])\n",
        "    return quicksort(left)+[p]+quicksort(right)\n",
        "\n",
        "quicksort([1,4,1,2,1,4,2,12,11,8,9,3,0])\n"
      ]
    },
    {
      "cell_type": "markdown",
      "metadata": {
        "id": "ZZACc_gWELXd"
      },
      "source": [
        "MergeSort Algorithm $\\rightarrow \\,\\, O(n\\, \\text{log}(n))\\,\\,$(Worst - Average Case)"
      ]
    },
    {
      "cell_type": "code",
      "execution_count": null,
      "metadata": {
        "id": "MoDxDQPGELXd",
        "outputId": "35fecd62-bbed-4fc8-af7f-633b16002699"
      },
      "outputs": [
        {
          "data": {
            "text/plain": [
              "[0, 1, 1, 1, 2, 2, 3, 4, 4, 8, 9, 11, 12]"
            ]
          },
          "execution_count": 1,
          "metadata": {},
          "output_type": "execute_result"
        }
      ],
      "source": [
        "def merge(a,b):\n",
        "    i = 0\n",
        "    j = 0\n",
        "    r = []\n",
        "    while(i<len(a) and j<len(b)):\n",
        "        if(a[i]<b[j]):\n",
        "            r.append(a[i])\n",
        "            i+=1\n",
        "        else:\n",
        "            r.append(b[j])\n",
        "            j+=1\n",
        "    while(i<len(a)):\n",
        "        r.append(a[i])\n",
        "        i+=1\n",
        "\n",
        "    while(j<len(b)):\n",
        "        r.append(b[j])\n",
        "        j+=1\n",
        "    return r\n",
        "\n",
        "def mergesort(a):\n",
        "    if len(a)<=1: return a\n",
        "    p1 = mergesort(a[:len(a)//2])\n",
        "    p2 = mergesort(a[len(a)//2:])\n",
        "    return merge(p1,p2)\n",
        "\n",
        "\n",
        "mergesort([1,4,1,2,1,4,2,12,11,8,9,3,0])"
      ]
    },
    {
      "cell_type": "markdown",
      "metadata": {
        "id": "tkEIvd2UEdHg"
      },
      "source": [
        "CountingSort Algorithm  →O(n) (Worst - Average Case)"
      ]
    },
    {
      "cell_type": "code",
      "execution_count": 1,
      "metadata": {
        "colab": {
          "base_uri": "https://localhost:8080/"
        },
        "id": "eqkDBiJ-EzF5",
        "outputId": "663d43b9-696e-4e60-c944-28b10eda3615"
      },
      "outputs": [
        {
          "data": {
            "text/plain": [
              "[0, 1, 1, 1, 2, 2, 3, 4, 4, 8, 9, 11, 12]"
            ]
          },
          "execution_count": 1,
          "metadata": {},
          "output_type": "execute_result"
        }
      ],
      "source": [
        "def countingsort(a):\n",
        "    mx,mn = max(a),min(a)\n",
        "    counter = [0 for i in range(mn,mx+1)]\n",
        "    for i in a:\n",
        "        counter[i-mn]+=1\n",
        "    k = 0\n",
        "    i = 0\n",
        "    while(i<len(counter)):\n",
        "        if(counter[i]!=0):\n",
        "            counter[i]-=1\n",
        "            a[k] = mn+i\n",
        "            k+=1\n",
        "        else:\n",
        "            i+=1\n",
        "    return a\n",
        "\n",
        "\n",
        "countingsort([1,4,1,2,1,4,2,12,11,8,9,3,0])"
      ]
    },
    {
      "cell_type": "markdown",
      "metadata": {},
      "source": [
        "InsertionSort Algorithm  →O(n2) (Worst - Average Case)"
      ]
    },
    {
      "cell_type": "code",
      "execution_count": 1,
      "metadata": {},
      "outputs": [
        {
          "data": {
            "text/plain": [
              "[0, 1, 1, 1, 2, 2, 3, 4, 4, 8, 9, 11, 12]"
            ]
          },
          "execution_count": 1,
          "metadata": {},
          "output_type": "execute_result"
        }
      ],
      "source": [
        "def insertionsort(a):\n",
        "    n = len(a)\n",
        "    if n <= 1:\n",
        "        return a\n",
        " \n",
        "    for i in range(1, n):  \n",
        "        key = a[i]  \n",
        "        j = i-1\n",
        "        while j >= 0 and key < a[j]:  \n",
        "            a[j+1] = a[j]\n",
        "            j -= 1\n",
        "        a[j+1] = key\n",
        "    return a\n",
        "\n",
        "insertionsort([1,4,1,2,1,4,2,12,11,8,9,3,0])"
      ]
    },
    {
      "cell_type": "markdown",
      "metadata": {},
      "source": []
    },
    {
      "cell_type": "code",
      "execution_count": null,
      "metadata": {},
      "outputs": [],
      "source": [
        "import time\n",
        "from random import randint\n",
        "\n",
        "def gettime(a,fun):\n",
        "    t1 = time.time()\n",
        "    fun(a)\n",
        "    return (time.time()-t1)*1000\n",
        "\n",
        "a = [randint(0,150) for i in range(1000)]\n",
        "print('Time elapsed to sort the list {a}\\nwith bubblesort is {gettime(a,bubblesort)} miliseconds')"
      ]
    }
  ],
  "metadata": {
    "colab": {
      "provenance": []
    },
    "kernelspec": {
      "display_name": "Python 3",
      "language": "python",
      "name": "python3"
    },
    "language_info": {
      "codemirror_mode": {
        "name": "ipython",
        "version": 3
      },
      "file_extension": ".py",
      "mimetype": "text/x-python",
      "name": "python",
      "nbconvert_exporter": "python",
      "pygments_lexer": "ipython3",
      "version": "3.10.4"
    }
  },
  "nbformat": 4,
  "nbformat_minor": 0
}
