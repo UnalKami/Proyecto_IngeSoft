{
 "cells": [
  {
   "cell_type": "markdown",
   "metadata": {},
   "source": [
    "# Sorting Algorithms"
   ]
  },
  {
   "cell_type": "markdown",
   "metadata": {},
   "source": [
    "QuickSort Algorithm $\\rightarrow \\,\\, O(n^2)\\,\\,$(Worst Case) "
   ]
  },
  {
   "cell_type": "code",
   "execution_count": 2,
   "metadata": {},
   "outputs": [
    {
     "data": {
      "text/plain": [
       "[0, 1, 1, 1, 2, 2, 3, 4, 4, 8, 9, 11, 12]"
      ]
     },
     "execution_count": 2,
     "metadata": {},
     "output_type": "execute_result"
    }
   ],
   "source": [
    "def quicksort(a):\n",
    "    if len(a)<=1: return a\n",
    "    left,right = [],[]\n",
    "    p = a[0]\n",
    "    for i in range(1,len(a)):\n",
    "        if a[i]<p: left.append(a[i])\n",
    "        else: right.append(a[i])\n",
    "    return quicksort(left)+[p]+quicksort(right)\n",
    "\n",
    "quicksort([1,4,1,2,1,4,2,12,11,8,9,3,0])\n"
   ]
  }
 ],
 "metadata": {
  "kernelspec": {
   "display_name": "Python 3",
   "language": "python",
   "name": "python3"
  },
  "language_info": {
   "codemirror_mode": {
    "name": "ipython",
    "version": 3
   },
   "file_extension": ".py",
   "mimetype": "text/x-python",
   "name": "python",
   "nbconvert_exporter": "python",
   "pygments_lexer": "ipython3",
   "version": "3.12.1"
  }
 },
 "nbformat": 4,
 "nbformat_minor": 2
}
